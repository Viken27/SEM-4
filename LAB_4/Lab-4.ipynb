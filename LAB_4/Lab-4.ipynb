{
 "cells": [
  {
   "cell_type": "markdown",
   "metadata": {},
   "source": [
    "\n",
    "<a href='https://www.darshan.ac.in/'> <img src='https://www.darshan.ac.in/Content/media/DU_Logo.svg' width=\"250\" height=\"300\"/></a>\n",
    "<pre>\n",
    "<center><b><h1>Python Programming - 2301CS404</b></center>\n",
    "<center><b><h1>Lab - 4</b></center>\n",
    "<center><b><h1>Viken Viramgama</b></center>    \n",
    "<center><b><h1>23010101300</b></center>    \n",
    "<pre>"
   ]
  },
  {
   "cell_type": "markdown",
   "metadata": {},
   "source": [
    "# String"
   ]
  },
  {
   "cell_type": "markdown",
   "metadata": {},
   "source": [
    "### 01) WAP to check whether the given string is palindrome or not."
   ]
  },
  {
   "cell_type": "code",
   "execution_count": 39,
   "metadata": {},
   "outputs": [
    {
     "name": "stdin",
     "output_type": "stream",
     "text": [
      "Enter a string :  aba\n"
     ]
    },
    {
     "name": "stdout",
     "output_type": "stream",
     "text": [
      "Is Palindrome\n"
     ]
    }
   ],
   "source": [
    "s = input(\"Enter a string : \")\n",
    "if s==s[::-1]:\n",
    "    print(\"Is Palindrome\")\n",
    "else:\n",
    "    print(\"Not a Palindrome\")"
   ]
  },
  {
   "cell_type": "markdown",
   "metadata": {},
   "source": [
    "### 02) WAP to reverse the words in the given string."
   ]
  },
  {
   "cell_type": "code",
   "execution_count": 5,
   "metadata": {},
   "outputs": [
    {
     "name": "stdin",
     "output_type": "stream",
     "text": [
      "Enter sentences :  abc hello\n"
     ]
    },
    {
     "name": "stdout",
     "output_type": "stream",
     "text": [
      "hello abc\n"
     ]
    }
   ],
   "source": [
    "s = input(\"Enter sentences : \")\n",
    "words = s.split()\n",
    "reverse_words = words[::-1]\n",
    "s = ' '.join(reverse_words);\n",
    "print(s)"
   ]
  },
  {
   "cell_type": "markdown",
   "metadata": {},
   "source": [
    "### 03) WAP to remove ith character from given string."
   ]
  },
  {
   "cell_type": "code",
   "execution_count": 11,
   "metadata": {},
   "outputs": [
    {
     "name": "stdin",
     "output_type": "stream",
     "text": [
      "Enter a string :  abc hello\n",
      "Enter value of i :  2\n"
     ]
    },
    {
     "name": "stdout",
     "output_type": "stream",
     "text": [
      "ab hello\n"
     ]
    }
   ],
   "source": [
    "s = input(\"Enter a string : \")\n",
    "i = int(input(\"Enter value of i : \"))\n",
    "s = s[:i]+s[i+1:]\n",
    "print(s)"
   ]
  },
  {
   "cell_type": "markdown",
   "metadata": {},
   "source": [
    "### 04) WAP to find length of string without using len function."
   ]
  },
  {
   "cell_type": "code",
   "execution_count": 13,
   "metadata": {},
   "outputs": [
    {
     "name": "stdin",
     "output_type": "stream",
     "text": [
      "Enter string :  abcd\n"
     ]
    },
    {
     "name": "stdout",
     "output_type": "stream",
     "text": [
      "Length =  4\n"
     ]
    }
   ],
   "source": [
    "s = input(\"Enter string : \")\n",
    "count=0\n",
    "for i in s:\n",
    "    count=count+1\n",
    "print(\"Length = \",count)"
   ]
  },
  {
   "cell_type": "markdown",
   "metadata": {},
   "source": [
    "### 05) WAP to print even length word in string."
   ]
  },
  {
   "cell_type": "code",
   "execution_count": 19,
   "metadata": {},
   "outputs": [
    {
     "name": "stdin",
     "output_type": "stream",
     "text": [
      "Enter a sentence :  hi\n"
     ]
    },
    {
     "name": "stdout",
     "output_type": "stream",
     "text": [
      "hi "
     ]
    }
   ],
   "source": [
    "s = input(\"Enter a sentence : \")\n",
    "words = s.split()\n",
    "for i in words:\n",
    "    if len(i)%2==0:\n",
    "        print(i,end=\" \")"
   ]
  },
  {
   "cell_type": "markdown",
   "metadata": {},
   "source": [
    "### 06) WAP to count numbers of vowels in given string."
   ]
  },
  {
   "cell_type": "code",
   "execution_count": 31,
   "metadata": {},
   "outputs": [
    {
     "name": "stdin",
     "output_type": "stream",
     "text": [
      "Enter a string:  aaabbbccc\n"
     ]
    },
    {
     "name": "stdout",
     "output_type": "stream",
     "text": [
      "3\n"
     ]
    }
   ],
   "source": [
    "s = input(\"Enter a string: \")\n",
    "count=0\n",
    "vowel=\"aeiouAEIOU\"\n",
    "for i in s:\n",
    "    if i in vowel:\n",
    "        count += 1\n",
    "print(count)"
   ]
  },
  {
   "cell_type": "markdown",
   "metadata": {},
   "source": [
    "### 07) WAP to capitalize the first and last character of each word in a string."
   ]
  },
  {
   "cell_type": "code",
   "execution_count": 41,
   "metadata": {},
   "outputs": [
    {
     "name": "stdin",
     "output_type": "stream",
     "text": [
      "Enter a sentence :  abcd\n"
     ]
    },
    {
     "name": "stdout",
     "output_type": "stream",
     "text": [
      "AbcD\n"
     ]
    }
   ],
   "source": [
    "s = input(\"Enter a sentence : \")\n",
    "words = s.split()\n",
    "word = []\n",
    "result = \"\"\n",
    "for i in words:\n",
    "    if len(i)>1:\n",
    "        i = i[0].upper()+i[1:-1]+i[-1].upper()\n",
    "    else:\n",
    "        i=i.upper()\n",
    "    word.append(i)\n",
    "result = \" \".join(word)\n",
    "print(result)"
   ]
  },
  {
   "cell_type": "markdown",
   "metadata": {},
   "source": [
    "### 08) WAP to convert given array to string."
   ]
  },
  {
   "cell_type": "code",
   "execution_count": 51,
   "metadata": {},
   "outputs": [
    {
     "name": "stdin",
     "output_type": "stream",
     "text": [
      "Enter size of array :  2\n",
      "Enter arr[0] :  a\n",
      "Enter arr[1] :  b\n"
     ]
    },
    {
     "name": "stdout",
     "output_type": "stream",
     "text": [
      "a b\n"
     ]
    }
   ],
   "source": [
    "n = int(input(\"Enter size of array : \"))\n",
    "arr = []\n",
    "for i in range(0,n):\n",
    "    val = input(f\"Enter arr[{i}] : \")\n",
    "    arr.append(val)\n",
    "s = \" \".join(arr)\n",
    "print(s)"
   ]
  },
  {
   "cell_type": "markdown",
   "metadata": {},
   "source": [
    "### 09) Check if the password and confirm password is same or not. \n",
    "### In case of only case's mistake, show the error message."
   ]
  },
  {
   "cell_type": "code",
   "execution_count": 57,
   "metadata": {},
   "outputs": [
    {
     "name": "stdin",
     "output_type": "stream",
     "text": [
      "Enter password :  abc123\n",
      "Re-enter your password :  abc123\n"
     ]
    },
    {
     "name": "stdout",
     "output_type": "stream",
     "text": [
      "Password Match.\n"
     ]
    }
   ],
   "source": [
    "password = input(\"Enter password : \")\n",
    "confirm = input(\"Re-enter your password : \")\n",
    "if password==confirm:\n",
    "    print(\"Password Match.\")\n",
    "elif password.lower()==confirm.lower():\n",
    "    print(\"Password do not match due to case difference.\")\n",
    "else:\n",
    "    print(\"Password do not match.\")"
   ]
  },
  {
   "cell_type": "markdown",
   "metadata": {},
   "source": [
    "### 10) : Display credit card number. \n",
    "### card no. : 1234 5678 9012 3456\n",
    "### display as  : **** **** **** 3456"
   ]
  },
  {
   "cell_type": "code",
   "execution_count": 67,
   "metadata": {},
   "outputs": [
    {
     "name": "stdin",
     "output_type": "stream",
     "text": [
      "Enter credit card number :  1234 5678 9012 3456\n"
     ]
    },
    {
     "name": "stdout",
     "output_type": "stream",
     "text": [
      "**** **** **** 3456\n"
     ]
    }
   ],
   "source": [
    "card_number = input(\"Enter credit card number : \")\n",
    "parts = card_number.split()\n",
    "for i in range(0,len(parts)-1):\n",
    "    parts[i] = '****'\n",
    "card_number = \" \".join(parts)\n",
    "print(card_number)"
   ]
  },
  {
   "cell_type": "markdown",
   "metadata": {},
   "source": [
    "### 11) : Checking if the two strings are Anagram or not.\n",
    "### s1 = decimal and s2 = medical are Anagram"
   ]
  },
  {
   "cell_type": "code",
   "execution_count": 71,
   "metadata": {},
   "outputs": [
    {
     "name": "stdin",
     "output_type": "stream",
     "text": [
      "Enter first string :  abc\n",
      "Enter second string :  abc\n"
     ]
    },
    {
     "name": "stdout",
     "output_type": "stream",
     "text": [
      "Is Anagram\n"
     ]
    }
   ],
   "source": [
    "s1 = input(\"Enter first string : \")\n",
    "s2 = input(\"Enter second string : \")\n",
    "if sorted(s1)==sorted(s2):\n",
    "    print(\"Is Anagram\")\n",
    "else:\n",
    "    print(\"Not Anagram\")"
   ]
  },
  {
   "cell_type": "markdown",
   "metadata": {},
   "source": [
    "### 12) : Rearrange the given string. First lowercase then uppercase alphabets.\n",
    "### input : EHlsarwiwhtwMV\n",
    "### output : lsarwiwhtwEHMV"
   ]
  },
  {
   "cell_type": "code",
   "execution_count": 77,
   "metadata": {},
   "outputs": [
    {
     "name": "stdin",
     "output_type": "stream",
     "text": [
      "Enter a string :  EHlsarwiwhtwMV\n"
     ]
    },
    {
     "name": "stdout",
     "output_type": "stream",
     "text": [
      "lsarwiwhtwEHMV\n"
     ]
    }
   ],
   "source": [
    "s = input(\"Enter a string : \")\n",
    "lower = \"\"\n",
    "upper = \"\"\n",
    "for i in s:\n",
    "    if i.islower():\n",
    "        lower += i\n",
    "    elif i.isupper():\n",
    "        upper += i\n",
    "result = lower+upper\n",
    "print(result)"
   ]
  },
  {
   "cell_type": "code",
   "execution_count": null,
   "metadata": {},
   "outputs": [],
   "source": []
  }
 ],
 "metadata": {
  "kernelspec": {
   "display_name": "Python 3 (ipykernel)",
   "language": "python",
   "name": "python3"
  },
  "language_info": {
   "codemirror_mode": {
    "name": "ipython",
    "version": 3
   },
   "file_extension": ".py",
   "mimetype": "text/x-python",
   "name": "python",
   "nbconvert_exporter": "python",
   "pygments_lexer": "ipython3",
   "version": "3.12.7"
  },
  "vscode": {
   "interpreter": {
    "hash": "31f2aee4e71d21fbe5cf8b01ff0e069b9275f58929596ceb00d14d90e3e16cd6"
   }
  }
 },
 "nbformat": 4,
 "nbformat_minor": 4
}
