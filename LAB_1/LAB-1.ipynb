{
 "cells": [
  {
   "cell_type": "markdown",
   "metadata": {},
   "source": [
    "<a href='https://www.darshan.ac.in/'> <img src='https://www.darshan.ac.in/Content/media/DU_Logo.svg' width=\"250\" height=\"10\"/></a>\n",
    "<pre>\n",
    "<center><b><h1>Python Programming - 2301CS404</b></center>\n",
    "<center><b><h1>Lab - 1</b></center> \n",
    "<center><b><h1>VIKEN VIRAMGAMA</b></center>\n",
    "<center><b><h1>23010101300</b></center>\n",
    "<pre>"
   ]
  },
  {
   "cell_type": "markdown",
   "metadata": {},
   "source": [
    "### 01) WAP to print “Hello World”"
   ]
  },
  {
   "cell_type": "code",
   "execution_count": 1,
   "metadata": {},
   "outputs": [
    {
     "name": "stdout",
     "output_type": "stream",
     "text": [
      "Hello World\n"
     ]
    }
   ],
   "source": [
    "print(\"Hello World\")"
   ]
  },
  {
   "cell_type": "markdown",
   "metadata": {},
   "source": [
    "### 02) WAP to print addition of two numbers with and without using input()."
   ]
  },
  {
   "cell_type": "code",
   "execution_count": 4,
   "metadata": {},
   "outputs": [
    {
     "name": "stdout",
     "output_type": "stream",
     "text": [
      "addition is : 30\n"
     ]
    }
   ],
   "source": [
    "a=10\n",
    "b=20\n",
    "print(\"addition is :\",a+b)"
   ]
  },
  {
   "cell_type": "markdown",
   "metadata": {},
   "source": [
    "### 03) WAP to check the type of the variable."
   ]
  },
  {
   "cell_type": "code",
   "execution_count": 6,
   "metadata": {},
   "outputs": [
    {
     "name": "stdout",
     "output_type": "stream",
     "text": [
      "<class 'int'>\n"
     ]
    }
   ],
   "source": [
    "print(type(a))"
   ]
  },
  {
   "cell_type": "markdown",
   "metadata": {},
   "source": [
    "### 04) WAP to calculate simple interest."
   ]
  },
  {
   "cell_type": "code",
   "execution_count": 15,
   "metadata": {},
   "outputs": [
    {
     "name": "stdout",
     "output_type": "stream",
     "text": [
      "ENTER NUMBER2\n",
      "ENTER NUMBER3\n",
      "ENTER NUMBER2\n",
      "0.12\n"
     ]
    }
   ],
   "source": [
    "p = float(input(\"ENTER NUMBER\"))\n",
    "r = float(input(\"ENTER NUMBER\"))\n",
    "n = float(input(\"ENTER NUMBER\"))\n",
    "print((p*r*n)/100)"
   ]
  },
  {
   "cell_type": "markdown",
   "metadata": {},
   "source": [
    "### 05) WAP to calculate area and perimeter of a circle."
   ]
  },
  {
   "cell_type": "code",
   "execution_count": 16,
   "metadata": {},
   "outputs": [
    {
     "name": "stdout",
     "output_type": "stream",
     "text": [
      "ENTER NUMBER2\n",
      "12.56\n"
     ]
    }
   ],
   "source": [
    "r = float(input(\"ENTER NUMBER\"))\n",
    "print(3.14*r*r)"
   ]
  },
  {
   "cell_type": "markdown",
   "metadata": {},
   "source": [
    "### 06) WAP to calculate area of a triangle."
   ]
  },
  {
   "cell_type": "code",
   "execution_count": 17,
   "metadata": {},
   "outputs": [
    {
     "name": "stdout",
     "output_type": "stream",
     "text": [
      "ENTER NUMBER2\n",
      "ENTER NUMBER3\n",
      "3.0\n"
     ]
    }
   ],
   "source": [
    "h = float(input(\"ENTER NUMBER\"))\n",
    "b = float(input(\"ENTER NUMBER\"))\n",
    "print(0.5*h*b)"
   ]
  },
  {
   "cell_type": "markdown",
   "metadata": {},
   "source": [
    "### 07) WAP to compute quotient and remainder."
   ]
  },
  {
   "cell_type": "code",
   "execution_count": 22,
   "metadata": {},
   "outputs": [
    {
     "name": "stdout",
     "output_type": "stream",
     "text": [
      "ENTER NUMBER5\n",
      "ENTER NUMBER2\n",
      "2\n",
      "1\n"
     ]
    }
   ],
   "source": [
    "a = int(input(\"ENTER NUMBER\"))\n",
    "b = int(input(\"ENTER NUMBER\"))\n",
    "c=a/b\n",
    "x=int(c)\n",
    "r = a%b\n",
    "print(x)\n",
    "print(r)"
   ]
  },
  {
   "cell_type": "markdown",
   "metadata": {},
   "source": [
    "### 08) WAP to convert degree into Fahrenheit and vice versa."
   ]
  },
  {
   "cell_type": "code",
   "execution_count": 23,
   "metadata": {},
   "outputs": [
    {
     "name": "stdout",
     "output_type": "stream",
     "text": [
      "ENTER NUMBER0\n",
      "ENTER NUMBER32\n",
      "32.0\n",
      "0.0\n"
     ]
    }
   ],
   "source": [
    "a = int(input(\"ENTER NUMBER\"))\n",
    "b = int(input(\"ENTER NUMBER\"))\n",
    "c = (a*(9/5)+32)\n",
    "d = ((b-32)*(5/9))\n",
    "print(c)\n",
    "print(d)"
   ]
  },
  {
   "cell_type": "markdown",
   "metadata": {},
   "source": [
    "### 09) WAP to find the distance between two points in 2-D space."
   ]
  },
  {
   "cell_type": "code",
   "execution_count": 25,
   "metadata": {},
   "outputs": [
    {
     "name": "stdout",
     "output_type": "stream",
     "text": [
      "ENTER NUMBER2\n",
      "ENTER NUMBER4\n",
      "ENTER NUMBER2\n",
      "ENTER NUMBER4\n",
      "2.8284271247461903\n"
     ]
    }
   ],
   "source": [
    "a = int(input(\"ENTER NUMBER\"))\n",
    "b = int(input(\"ENTER NUMBER\"))\n",
    "c = int(input(\"ENTER NUMBER\"))\n",
    "d = int(input(\"ENTER NUMBER\"))\n",
    "x = ((((b-a)*2)+((d-c)*2))**0.5)\n",
    "print(x)"
   ]
  },
  {
   "cell_type": "markdown",
   "metadata": {},
   "source": [
    "### 10) WAP to print sum of n natural numbers."
   ]
  },
  {
   "cell_type": "code",
   "execution_count": 27,
   "metadata": {},
   "outputs": [
    {
     "name": "stdout",
     "output_type": "stream",
     "text": [
      "ENTER NUMBER3\n",
      "6.0\n"
     ]
    }
   ],
   "source": [
    "n = int(input(\"ENTER NUMBER\"))\n",
    "x = (n*(n+1)/2)\n",
    "print(x)"
   ]
  },
  {
   "cell_type": "markdown",
   "metadata": {},
   "source": [
    "### 11) WAP to print sum of square of n natural numbers."
   ]
  },
  {
   "cell_type": "code",
   "execution_count": 29,
   "metadata": {},
   "outputs": [
    {
     "name": "stdout",
     "output_type": "stream",
     "text": [
      "ENTER NUMBER3\n",
      "14.0\n"
     ]
    }
   ],
   "source": [
    "n = int(input(\"ENTER NUMBER\"))\n",
    "x = ((n*(n+1)*(2*n+1))/6)\n",
    "print(x)"
   ]
  },
  {
   "cell_type": "markdown",
   "metadata": {},
   "source": [
    "### 12) WAP to concate the first and last name of the student."
   ]
  },
  {
   "cell_type": "code",
   "execution_count": 30,
   "metadata": {},
   "outputs": [
    {
     "name": "stdout",
     "output_type": "stream",
     "text": [
      "efihefufeugfj\n"
     ]
    }
   ],
   "source": [
    "a=\"efihefu\"\n",
    "b=\"feugfj\"\n",
    "print(a+b)"
   ]
  },
  {
   "cell_type": "markdown",
   "metadata": {},
   "source": [
    "### 13) WAP to swap two numbers."
   ]
  },
  {
   "cell_type": "code",
   "execution_count": 31,
   "metadata": {},
   "outputs": [
    {
     "name": "stdout",
     "output_type": "stream",
     "text": [
      "ENTER NUMBER2\n",
      "ENTER NUMBER3\n",
      "n 3\n",
      "m 2\n"
     ]
    }
   ],
   "source": [
    "n = int(input(\"ENTER NUMBER\"))\n",
    "m = int(input(\"ENTER NUMBER\"))\n",
    "t=n\n",
    "n=m\n",
    "m=t\n",
    "print(\"n\",n)\n",
    "print(\"m\",m)"
   ]
  },
  {
   "cell_type": "markdown",
   "metadata": {},
   "source": [
    "### 14) WAP to get the distance from user into kilometer, and convert it into meter, feet, inches and centimeter."
   ]
  },
  {
   "cell_type": "code",
   "execution_count": 33,
   "metadata": {},
   "outputs": [
    {
     "name": "stdout",
     "output_type": "stream",
     "text": [
      "ENTER NUMBER1\n",
      "1\n",
      "1000\n",
      "3280.84\n",
      "39370.1\n",
      "100000\n"
     ]
    }
   ],
   "source": [
    "km = int(input(\"ENTER NUMBER\"))\n",
    "m = (km*1000)\n",
    "feet = (km*3280.84)\n",
    "inches = (km*39370.1)\n",
    "cm = (km*100000)\n",
    "print(km)\n",
    "print(m)\n",
    "print(feet)\n",
    "print(inches)\n",
    "print(cm)"
   ]
  },
  {
   "cell_type": "markdown",
   "metadata": {},
   "source": [
    "### 15) WAP to get day, month and year from the user and print the date in the given format: 23-11-2024."
   ]
  },
  {
   "cell_type": "code",
   "execution_count": 34,
   "metadata": {},
   "outputs": [
    {
     "name": "stdout",
     "output_type": "stream",
     "text": [
      "ENTER NUMBER20\n",
      "ENTER NUMBER12\n",
      "ENTER NUMBER2001\n",
      "20-12-2001\n"
     ]
    }
   ],
   "source": [
    "day = int(input(\"ENTER NUMBER\"))\n",
    "month = int(input(\"ENTER NUMBER\"))\n",
    "year = int(input(\"ENTER NUMBER\"))\n",
    "print(day,month,year,sep=\"-\")"
   ]
  },
  {
   "cell_type": "code",
   "execution_count": null,
   "metadata": {},
   "outputs": [],
   "source": []
  }
 ],
 "metadata": {
  "kernelspec": {
   "display_name": "Python 3 (ipykernel)",
   "language": "python",
   "name": "python3"
  },
  "language_info": {
   "codemirror_mode": {
    "name": "ipython",
    "version": 3
   },
   "file_extension": ".py",
   "mimetype": "text/x-python",
   "name": "python",
   "nbconvert_exporter": "python",
   "pygments_lexer": "ipython3",
   "version": "3.12.7"
  },
  "vscode": {
   "interpreter": {
    "hash": "31f2aee4e71d21fbe5cf8b01ff0e069b9275f58929596ceb00d14d90e3e16cd6"
   }
  }
 },
 "nbformat": 4,
 "nbformat_minor": 4
}
