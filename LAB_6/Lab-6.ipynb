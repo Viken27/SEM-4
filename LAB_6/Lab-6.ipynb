{
 "cells": [
  {
   "cell_type": "markdown",
   "metadata": {},
   "source": [
    "<a href='https://www.darshan.ac.in/'> <img src='https://www.darshan.ac.in/Content/media/DU_Logo.svg' width=\"250\" height=\"300\"/></a>\n",
    "<pre>\n",
    "<center><b><h1>Python Programming - 2301CS404</b></center>\n",
    "<center><b><h1>Lab - 6</b></center>   \n",
    "<center><b><h1>Viken Viramgama</b></center> \n",
    "<center><b><h1>L23010101300</b></center> \n",
    "<pre>"
   ]
  },
  {
   "cell_type": "markdown",
   "metadata": {},
   "source": [
    "# Tuple"
   ]
  },
  {
   "cell_type": "markdown",
   "metadata": {},
   "source": [
    "### 01) WAP to find sum of tuple elements."
   ]
  },
  {
   "cell_type": "code",
   "execution_count": 10,
   "metadata": {},
   "outputs": [
    {
     "name": "stdin",
     "output_type": "stream",
     "text": [
      "Enter space separated values :  6 4 5\n"
     ]
    },
    {
     "name": "stdout",
     "output_type": "stream",
     "text": [
      "Sum = 15\n"
     ]
    }
   ],
   "source": [
    "n = input(\"Enter space separated values : \")\n",
    "t = tuple(int(i) for i in n.split())\n",
    "print(\"Sum =\",sum(t))"
   ]
  },
  {
   "cell_type": "markdown",
   "metadata": {},
   "source": [
    "### 02) WAP to find Maximum and Minimum K elements in a given tuple."
   ]
  },
  {
   "cell_type": "code",
   "execution_count": 18,
   "metadata": {},
   "outputs": [
    {
     "name": "stdin",
     "output_type": "stream",
     "text": [
      "Enter space separated values :  2 4 6 8\n",
      "Enter value of k :  2\n"
     ]
    },
    {
     "name": "stdout",
     "output_type": "stream",
     "text": [
      "Min =  (2, 4)\n",
      "Max =  (6, 8)\n"
     ]
    }
   ],
   "source": [
    "n = input(\"Enter space separated values : \")\n",
    "k = int(input(\"Enter value of k : \"))\n",
    "t = tuple(int(i) for i in n.split())\n",
    "s=sorted(t)\n",
    "min = tuple(i for i in s[:k])\n",
    "max = tuple(i for i in s[len(s)-k:])\n",
    "print(\"Min = \",min)\n",
    "print(\"Max = \",max)"
   ]
  },
  {
   "cell_type": "markdown",
   "metadata": {},
   "source": [
    "### 03) WAP to find tuples which have all elements divisible by K from a list of tuples."
   ]
  },
  {
   "cell_type": "code",
   "execution_count": 30,
   "metadata": {},
   "outputs": [
    {
     "name": "stdin",
     "output_type": "stream",
     "text": [
      "Enter number of tuples:  2\n",
      "Enter elements of tuple 1 (space-separated):  2 4 6\n",
      "Enter elements of tuple 2 (space-separated):  4 6 8\n",
      "Enter value of k:  1\n"
     ]
    },
    {
     "name": "stdout",
     "output_type": "stream",
     "text": [
      "Divisible Tuples = [(2, 4, 6), (4, 6, 8)]\n"
     ]
    }
   ],
   "source": [
    "t_list = []\n",
    "n = int(input(\"Enter number of tuples: \"))\n",
    "for i in range(n):\n",
    "    t_elements = input(f\"Enter elements of tuple {i+1} (space-separated): \").split()\n",
    "    t_elements = [int(i) for i in t_elements]\n",
    "    t_list.append(tuple(t_elements))\n",
    "\n",
    "k = int(input(\"Enter value of k: \"))\n",
    "divisible = [t for t in t_list if all(x % k == 0 for x in t)]\n",
    "print(\"Divisible Tuples =\", divisible)"
   ]
  },
  {
   "cell_type": "markdown",
   "metadata": {},
   "source": [
    "### 04) WAP to create a list of tuples from given list having number and its cube in each tuple."
   ]
  },
  {
   "cell_type": "code",
   "execution_count": 32,
   "metadata": {},
   "outputs": [
    {
     "name": "stdin",
     "output_type": "stream",
     "text": [
      "Enter elements in space separated values :  2 3 4 5\n"
     ]
    },
    {
     "name": "stdout",
     "output_type": "stream",
     "text": [
      "List of Tuples =  [(2, 8), (3, 27), (4, 64), (5, 125)]\n"
     ]
    }
   ],
   "source": [
    "n = input(\"Enter elements in space separated values : \")\n",
    "l = [int(i) for i in n.split()]\n",
    "t = [(i,i**3) for i in l]\n",
    "print(\"List of Tuples = \",t)"
   ]
  },
  {
   "cell_type": "markdown",
   "metadata": {},
   "source": [
    "### 05) WAP to find tuples with all positive elements from the given list of tuples."
   ]
  },
  {
   "cell_type": "code",
   "execution_count": 34,
   "metadata": {},
   "outputs": [
    {
     "name": "stdin",
     "output_type": "stream",
     "text": [
      "Enter number of tuples :  2\n",
      "Enter space separated values for 1 :  2 4 6\n",
      "Enter space separated values for 2 :  4 6 8\n"
     ]
    },
    {
     "name": "stdout",
     "output_type": "stream",
     "text": [
      "Positive =  [(2, 4, 6), (4, 6, 8)]\n"
     ]
    }
   ],
   "source": [
    "n = int(input(\"Enter number of tuples : \"))\n",
    "t_list = []\n",
    "for i in range(n):\n",
    "    t_elements = input(f\"Enter space separated values for {i+1} : \").split()\n",
    "    t_elements = [int(i) for i in t_elements]\n",
    "    t_list.append(tuple(t_elements))\n",
    "positive = [t for t in t_list if all(x>0 for x in t)]\n",
    "print(\"Positive = \",positive)"
   ]
  },
  {
   "cell_type": "markdown",
   "metadata": {},
   "source": [
    "### 06) WAP to add tuple to list and vice – versa."
   ]
  },
  {
   "cell_type": "code",
   "execution_count": 36,
   "metadata": {},
   "outputs": [
    {
     "name": "stdin",
     "output_type": "stream",
     "text": [
      "Enter space separated values for the tuple:  1 2 3 4 5 6\n",
      "Enter space separated values for the list:  1 2 3 4 5 6\n"
     ]
    },
    {
     "name": "stdout",
     "output_type": "stream",
     "text": [
      "Tuple to List = [1, 2, 3, 4, 5, 6, 1, 2, 3, 4, 5, 6]\n",
      "List to Tuple = (1, 2, 3, 4, 5, 6, 1, 2, 3, 4, 5, 6)\n"
     ]
    }
   ],
   "source": [
    "elements = input(\"Enter space separated values for the tuple: \").split()\n",
    "t = tuple(int(i) for i in elements)\n",
    "\n",
    "elements_list = input(\"Enter space separated values for the list: \").split()\n",
    "l = [int(i) for i in elements_list]\n",
    "\n",
    "tuple_to_list = list(t)\n",
    "tuple_to_list.extend(l)\n",
    "print(\"Tuple to List =\", tuple_to_list)\n",
    "\n",
    "temp_list = list(t)\n",
    "temp_list.extend(l)\n",
    "list_to_tuple = tuple(temp_list)\n",
    "print(\"List to Tuple =\", list_to_tuple)"
   ]
  },
  {
   "cell_type": "markdown",
   "metadata": {},
   "source": [
    "### 07) WAP to remove tuples of length K."
   ]
  },
  {
   "cell_type": "code",
   "execution_count": 42,
   "metadata": {},
   "outputs": [
    {
     "name": "stdin",
     "output_type": "stream",
     "text": [
      "Enter number of tuples :  2\n",
      "Enter value of k :  2\n",
      "Enter space separated values for 1 :  1 2 3 4 5\n",
      "Enter space separated values for 2 :  1 2 3 4 5\n"
     ]
    },
    {
     "name": "stdout",
     "output_type": "stream",
     "text": [
      "List =  [('1', '2', '3', '4', '5'), ('1', '2', '3', '4', '5')]\n"
     ]
    }
   ],
   "source": [
    "n = int(input(\"Enter number of tuples : \"))\n",
    "k = int(input(\"Enter value of k : \"))\n",
    "li = []\n",
    "for i in range(n):\n",
    "    elements = input(f\"Enter space separated values for {i+1} : \").split()\n",
    "    elements = [i for i in elements]\n",
    "    li.append(tuple(elements))\n",
    "for i in li:\n",
    "    if len(i)==k:\n",
    "        li.remove(i)\n",
    "print(\"List = \",li)"
   ]
  },
  {
   "cell_type": "markdown",
   "metadata": {},
   "source": [
    "### 08) WAP to remove duplicates from tuple."
   ]
  },
  {
   "cell_type": "code",
   "execution_count": 44,
   "metadata": {},
   "outputs": [
    {
     "name": "stdin",
     "output_type": "stream",
     "text": [
      "Enter space separated values :  1 2 3\n"
     ]
    },
    {
     "name": "stdout",
     "output_type": "stream",
     "text": [
      "Tuple =  (1, 2, 3)\n"
     ]
    }
   ],
   "source": [
    "n = input(\"Enter space separated values : \")\n",
    "t = tuple(int(i) for i in n.split())\n",
    "s = set(t)\n",
    "tup = tuple(s)\n",
    "print(\"Tuple = \",tup)"
   ]
  },
  {
   "cell_type": "markdown",
   "metadata": {},
   "source": [
    "### 09) WAP to multiply adjacent elements of a tuple and print that resultant tuple."
   ]
  },
  {
   "cell_type": "code",
   "execution_count": 48,
   "metadata": {},
   "outputs": [
    {
     "name": "stdin",
     "output_type": "stream",
     "text": [
      "Enter space-separated values:  2 4 6\n"
     ]
    },
    {
     "name": "stdout",
     "output_type": "stream",
     "text": [
      "Resultant tuple = (8, 24)\n"
     ]
    }
   ],
   "source": [
    "n = input(\"Enter space-separated values: \")\n",
    "t = tuple(int(i) for i in n.split())\n",
    "res = []\n",
    "for j in range(1, len(t)):\n",
    "    i = j - 1\n",
    "    res.append(t[i] * t[j])\n",
    "result_tuple = tuple(res)\n",
    "print(\"Resultant tuple =\", result_tuple)"
   ]
  },
  {
   "cell_type": "markdown",
   "metadata": {},
   "source": [
    "### 10) WAP to test if the given tuple is distinct or not."
   ]
  },
  {
   "cell_type": "code",
   "execution_count": 50,
   "metadata": {},
   "outputs": [
    {
     "name": "stdin",
     "output_type": "stream",
     "text": [
      "Enter space separated values :  1 2 3\n"
     ]
    },
    {
     "name": "stdout",
     "output_type": "stream",
     "text": [
      "Tuple is distinct\n"
     ]
    }
   ],
   "source": [
    "n = input(\"Enter space separated values : \")\n",
    "t = tuple(int(i) for i in n.split())\n",
    "s = set(t)\n",
    "if len(t)==len(s):\n",
    "    print(\"Tuple is distinct\")\n",
    "else:\n",
    "    print(\"Tuple is not distinct\")"
   ]
  },
  {
   "cell_type": "code",
   "execution_count": null,
   "metadata": {},
   "outputs": [],
   "source": []
  }
 ],
 "metadata": {
  "kernelspec": {
   "display_name": "Python 3 (ipykernel)",
   "language": "python",
   "name": "python3"
  },
  "language_info": {
   "codemirror_mode": {
    "name": "ipython",
    "version": 3
   },
   "file_extension": ".py",
   "mimetype": "text/x-python",
   "name": "python",
   "nbconvert_exporter": "python",
   "pygments_lexer": "ipython3",
   "version": "3.12.7"
  }
 },
 "nbformat": 4,
 "nbformat_minor": 4
}
