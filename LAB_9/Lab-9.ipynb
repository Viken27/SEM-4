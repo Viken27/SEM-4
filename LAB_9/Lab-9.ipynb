{
 "cells": [
  {
   "cell_type": "markdown",
   "metadata": {},
   "source": [
    "<a href='https://www.darshan.ac.in/'> <img src='https://www.darshan.ac.in/Content/media/DU_Logo.svg' width=\"250\" height=\"300\"/></a>\n",
    "<pre>\n",
    "<center><b><h1>Python Programming - 2301CS404</b></center>\n",
    "<center><b><h1>Lab - 9</b></center> \n",
    "<center><b><h1>Viken Viramgama</b></center> \n",
    "<center><b><h1>23010101300</b></center> \n",
    "<pre>"
   ]
  },
  {
   "cell_type": "markdown",
   "metadata": {},
   "source": [
    "# File I/O"
   ]
  },
  {
   "cell_type": "markdown",
   "metadata": {},
   "source": [
    "### 01) WAP to read and display the contents of a text file. (also try to open the file in some other directory) \n",
    "#### - in the form of a string\n",
    "#### - line by line\n",
    "#### - in the form of a list"
   ]
  },
  {
   "cell_type": "code",
   "execution_count": 10,
   "metadata": {},
   "outputs": [
    {
     "name": "stdout",
     "output_type": "stream",
     "text": [
      "Hello World!!!!!!!!!!\n",
      "Good Mornings........\n",
      "Hello World!!!!!!!!!!\n",
      "Hello World!!!!!!!!!!\n",
      "\n",
      "['Hello World!!!!!!!!!!\\n', 'Good Mornings........\\n', 'Hello World!!!!!!!!!!']\n"
     ]
    }
   ],
   "source": [
    "f = open(\"newFile.txt\", \"r\")\n",
    "print(f.read())\n",
    "f.close()\n",
    "\n",
    "f = open(\"newFile.txt\", \"r\")\n",
    "print(f.readline())\n",
    "f.close()\n",
    "\n",
    "f = open(\"newFile.txt\", \"r\")\n",
    "print(f.readlines())\n",
    "f.close()"
   ]
  },
  {
   "cell_type": "markdown",
   "metadata": {},
   "source": [
    "### 02) WAP to create file named \"new.txt\" only if it doesn't exist."
   ]
  },
  {
   "cell_type": "code",
   "execution_count": 17,
   "metadata": {},
   "outputs": [],
   "source": [
    "f = open(\"new.txt\",\"w\")\n",
    "f.write(\"Hi Hello from python\")\n",
    "f.close()"
   ]
  },
  {
   "cell_type": "markdown",
   "metadata": {},
   "source": [
    "### 03) WAP to read first 5 lines from the text file."
   ]
  },
  {
   "cell_type": "code",
   "execution_count": 20,
   "metadata": {},
   "outputs": [
    {
     "name": "stdout",
     "output_type": "stream",
     "text": [
      "Hello World!!!!!!!!!!\n",
      "\n",
      "Good Mornings........\n",
      "\n",
      "Hello World!!!!!!!!!!\n",
      "\n",
      "\n"
     ]
    }
   ],
   "source": [
    "f = open(\"newFile.txt\", \"r\")\n",
    "for i in range(5):\n",
    "    print(f.readline())\n",
    "f.close()"
   ]
  },
  {
   "cell_type": "markdown",
   "metadata": {},
   "source": [
    "### 04) WAP to find the longest word(s) in a file"
   ]
  },
  {
   "cell_type": "code",
   "execution_count": 22,
   "metadata": {},
   "outputs": [
    {
     "name": "stdout",
     "output_type": "stream",
     "text": [
      "Mornings........\n"
     ]
    }
   ],
   "source": [
    "f = open(\"newFile.txt\", \"r\")\n",
    "words = f.read().split()\n",
    "print (max(words, key=len))\n",
    "f.close()"
   ]
  },
  {
   "cell_type": "markdown",
   "metadata": {},
   "source": [
    "### 05) WAP to count the no. of lines, words and characters in a given text file."
   ]
  },
  {
   "cell_type": "code",
   "execution_count": 41,
   "metadata": {},
   "outputs": [
    {
     "name": "stdout",
     "output_type": "stream",
     "text": [
      "3\n",
      "22\n",
      "65\n"
     ]
    }
   ],
   "source": [
    "#No.of lines\n",
    "f = open(\"newFile.txt\",\"r\")\n",
    "lines=len(f.readlines())\n",
    "print(lines)\n",
    "f.close()\n",
    "\n",
    "#No. of words\n",
    "f = open(\"newFile.txt\",\"r\")\n",
    "lines=len(f.readline())\n",
    "print(lines)\n",
    "f.close()\n",
    "\n",
    "#No. of characters\n",
    "f = open(\"newFile.txt\",\"r\")\n",
    "lines=len(f.read())\n",
    "print(lines)\n",
    "f.close()\n"
   ]
  },
  {
   "cell_type": "markdown",
   "metadata": {},
   "source": [
    "### 06) WAP to copy the content of a file to the another file."
   ]
  },
  {
   "cell_type": "code",
   "execution_count": 30,
   "metadata": {},
   "outputs": [],
   "source": [
    "f1 = open(\"newFile.txt\",\"r\")\n",
    "f2 = open(\"newFile2.text\",\"w\")\n",
    "for i in f1:\n",
    "    f2.write(i)\n",
    "f1.close()\n",
    "f2.close()"
   ]
  },
  {
   "cell_type": "markdown",
   "metadata": {},
   "source": [
    "### 07) WAP to find the size of the text file. "
   ]
  },
  {
   "cell_type": "code",
   "execution_count": 29,
   "metadata": {},
   "outputs": [
    {
     "name": "stdout",
     "output_type": "stream",
     "text": [
      "65\n"
     ]
    }
   ],
   "source": [
    "import os \n",
    "sz = os.path.getsize(\"newFile.txt\") \n",
    "print(sz)"
   ]
  },
  {
   "cell_type": "markdown",
   "metadata": {},
   "source": [
    "### 08) WAP to create an UDF named frequency to count occurances of the specific word in a given text file."
   ]
  },
  {
   "cell_type": "code",
   "execution_count": 57,
   "metadata": {},
   "outputs": [
    {
     "name": "stdout",
     "output_type": "stream",
     "text": [
      "2\n"
     ]
    }
   ],
   "source": [
    "def frequency(file_content,specific_word):\n",
    "    # Method-1\n",
    "    count = file_content.count(specific_word)\n",
    "    # Method-2\n",
    "    # count = 0\n",
    "    # for i in file_content:\n",
    "    #     if i == specific_word:\n",
    "    #         count += 1\n",
    "    return count\n",
    "\n",
    "fp = open(\"newFile.txt\",\"r\")\n",
    "data = fp.read()\n",
    "print(frequency(data.split(),'Hello'))\n",
    "fp.close()"
   ]
  },
  {
   "cell_type": "markdown",
   "metadata": {},
   "source": [
    "### 09) WAP to get the score of five subjects from the user, store them in a file. Fetch those marks and find the highest score."
   ]
  },
  {
   "cell_type": "code",
   "execution_count": 61,
   "metadata": {},
   "outputs": [
    {
     "name": "stdout",
     "output_type": "stream",
     "text": [
      "Enter marks of subject 1: 23\n",
      "Enter marks of subject 2: 24\n",
      "Enter marks of subject 3: 26\n",
      "Enter marks of subject 4: 20\n",
      "Enter marks of subject 5: 25\n",
      "The highest score is: 26\n"
     ]
    }
   ],
   "source": [
    "fp = open(\"newFile.txt\", \"w+\")\n",
    "for i in range(1, 6):\n",
    "    mark = input(f\"Enter marks of subject {i}: \")\n",
    "    fp.write(mark + \"\\n\")\n",
    "fp.seek(0)\n",
    "l1 = [int(mark.strip()) for mark in fp.readlines()]\n",
    "print(f\"The highest score is: {max(l1)}\")\n",
    "fp.close()"
   ]
  },
  {
   "cell_type": "markdown",
   "metadata": {},
   "source": [
    "### 10) WAP to write first 100 prime numbers to a file named primenumbers.txt \n",
    "(Note: each number should be in new line)"
   ]
  },
  {
   "cell_type": "code",
   "execution_count": 62,
   "metadata": {},
   "outputs": [],
   "source": [
    "def is_prime(num):\n",
    "    if num < 2:\n",
    "        return False\n",
    "    for i in range(2, int(num**0.5) + 1):\n",
    "        if num % i == 0:\n",
    "            return False\n",
    "    return True\n",
    "\n",
    "def prime_numbers(n, filename):\n",
    "    count = 0\n",
    "    num = 2\n",
    "    with open(filename, 'w') as fp:\n",
    "        while count < n:\n",
    "            if is_prime(num):\n",
    "                fp.write(f\"{num}\\n\")\n",
    "                count += 1\n",
    "            num += 1 \n",
    "\n",
    "prime_numbers(100, \"primenumbers.txt\")"
   ]
  },
  {
   "cell_type": "markdown",
   "metadata": {},
   "source": [
    "### 11) WAP to merge two files and write it in a new file."
   ]
  },
  {
   "cell_type": "code",
   "execution_count": 65,
   "metadata": {},
   "outputs": [
    {
     "name": "stdout",
     "output_type": "stream",
     "text": [
      "Files 'newFile.txt' and 'new.txt' have been merged into 'mergedFile.txt'\n"
     ]
    }
   ],
   "source": [
    "f1 = open(\"newFile.txt\", \"r\")\n",
    "f2 = open(\"new.txt\", \"r\")\n",
    "fp = open(\"mergedFile.txt\", \"w\")\n",
    "fp.write(f1.read())\n",
    "fp.write(f2.read())\n",
    "f1.close()\n",
    "f2.close()\n",
    "fp.close()\n",
    "\n",
    "print(\"Files 'newFile.txt' and 'new.txt' have been merged into 'mergedFile.txt'\")\n"
   ]
  },
  {
   "cell_type": "markdown",
   "metadata": {},
   "source": [
    "### 12) WAP to replace word1 by word2 of a text file. Write the updated data to new file."
   ]
  },
  {
   "cell_type": "code",
   "execution_count": 66,
   "metadata": {},
   "outputs": [
    {
     "name": "stdout",
     "output_type": "stream",
     "text": [
      "The word replacement has been done and saved to 'updated_content.txt'\n"
     ]
    }
   ],
   "source": [
    "f1 = open(\"mergedFile.txt\", \"r\")\n",
    "content = f1.read()\n",
    "updated_content = content.replace('Hi', 'bye')\n",
    "new_file = open(\"updated_content.txt\", \"w\")\n",
    "new_file.write(updated_content)\n",
    "f1.close()\n",
    "new_file.close()\n",
    "\n",
    "print(\"The word replacement has been done and saved to 'updated_content.txt'\")"
   ]
  },
  {
   "cell_type": "markdown",
   "metadata": {},
   "source": [
    "### 13) Demonstrate tell() and seek() for all the cases(seek from beginning-end-current position) taking a suitable example of your choice."
   ]
  },
  {
   "cell_type": "code",
   "execution_count": 56,
   "metadata": {},
   "outputs": [
    {
     "name": "stdout",
     "output_type": "stream",
     "text": [
      "[b'Hello World!!!!!!!!!!\\n', b'Good Mornings........\\n', b'Hello World!!!!!!!!!!']\n",
      "65\n",
      "4\n",
      "8\n",
      "65\n"
     ]
    }
   ],
   "source": [
    "#No.of lines\n",
    "f = open(\"newFile.txt\",\"rb\")\n",
    "lines=f.readlines()\n",
    "print(lines)\n",
    "# f.close()\n",
    "print(f.tell())\n",
    "f.seek(4,0)\n",
    "print(f.tell())\n",
    "f.seek(4,1)\n",
    "print(f.tell())\n",
    "f.seek(0,2)\n",
    "print(f.tell())"
   ]
  },
  {
   "cell_type": "code",
   "execution_count": null,
   "metadata": {},
   "outputs": [],
   "source": []
  }
 ],
 "metadata": {
  "kernelspec": {
   "display_name": "Python 3 (ipykernel)",
   "language": "python",
   "name": "python3"
  },
  "language_info": {
   "codemirror_mode": {
    "name": "ipython",
    "version": 3
   },
   "file_extension": ".py",
   "mimetype": "text/x-python",
   "name": "python",
   "nbconvert_exporter": "python",
   "pygments_lexer": "ipython3",
   "version": "3.12.7"
  }
 },
 "nbformat": 4,
 "nbformat_minor": 4
}
